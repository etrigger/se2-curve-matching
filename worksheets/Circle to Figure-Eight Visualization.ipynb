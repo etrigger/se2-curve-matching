{
 "metadata": {
  "name": "Circle to Figure-Eight Visualization"
 },
 "nbformat": 3,
 "nbformat_minor": 0,
 "worksheets": [
  {
   "cells": [
    {
     "cell_type": "code",
     "collapsed": true,
     "input": [
      "from matplotlib import rc\n",
      "rc('font', size=10)\n",
      "rc('font',**{'family':'serif','serif':['Computer Modern']})\n",
      "rc('text', usetex=True)\n",
      "rc('figure', figsize=(3, 2))\n",
      "rc('axes', linewidth=.5)\n",
      "rc('lines', linewidth=.75)\n",
      "rc('axes', titlesize=11)"
     ],
     "language": "python",
     "metadata": {},
     "outputs": []
    },
    {
     "cell_type": "code",
     "collapsed": false,
     "input": [
      "from discrepancy.matching import MatchingProblem\n",
      "from discrepancy.curves import Circle, FigureEight, LogSpiral\n",
      "from discrepancy.tools import separate_energies\n",
      "from discrepancy.ode_system import right_boundary_condition\n",
      "from discrepancy.interpolation import LiegroupInterpolationMethod"
     ],
     "language": "python",
     "metadata": {},
     "outputs": []
    },
    {
     "cell_type": "code",
     "collapsed": false,
     "input": [
      "import math"
     ],
     "language": "python",
     "metadata": {},
     "outputs": []
    },
    {
     "cell_type": "markdown",
     "metadata": {},
     "source": [
      "Plot energy against starting angle (100 points)\n",
      "---"
     ]
    },
    {
     "cell_type": "code",
     "collapsed": true,
     "input": [
      "c0 = Circle(N=100)\n",
      "c1 = FigureEight(N=100)"
     ],
     "language": "python",
     "metadata": {},
     "outputs": []
    },
    {
     "cell_type": "code",
     "collapsed": true,
     "input": [
      "# Translate and align curves\n",
      "c0.translate(-c0[0])\n",
      "c1.translate(-c1[0])\n",
      "\n",
      "phi0 = math.atan2(c0[1,1], c0[1,0])\n",
      "c0.rotate(-phi0)\n",
      "\n",
      "phi1 = math.atan2(c1[1,1], c1[1,0])\n",
      "c1.rotate(-phi1)"
     ],
     "language": "python",
     "metadata": {},
     "outputs": []
    },
    {
     "cell_type": "code",
     "collapsed": false,
     "input": [],
     "language": "python",
     "metadata": {},
     "outputs": []
    },
    {
     "cell_type": "code",
     "collapsed": true,
     "input": [
      "mp = MatchingProblem(c0, c1, 2)"
     ],
     "language": "python",
     "metadata": {},
     "outputs": []
    },
    {
     "cell_type": "code",
     "collapsed": false,
     "input": [
      "output = mp.sweep_theta_range(40)"
     ],
     "language": "python",
     "metadata": {},
     "outputs": []
    },
    {
     "cell_type": "code",
     "collapsed": false,
     "input": [
      "# Find global minimum of the energy\n",
      "_, theta_min, E_min, _, _ = min(output, key=lambda row: row[2])\n",
      "print theta_min, E_min"
     ],
     "language": "python",
     "metadata": {},
     "outputs": []
    },
    {
     "cell_type": "code",
     "collapsed": false,
     "input": [],
     "language": "python",
     "metadata": {},
     "outputs": []
    },
    {
     "cell_type": "code",
     "collapsed": false,
     "input": [
      "# Compute energies for range of initial conditions\n",
      "\n",
      "n = 50\n",
      "\n",
      "thetas = np.linspace(0, 2*np.pi, n)\n",
      "energies = np.empty(n)\n",
      "\n",
      "for k in xrange(0, n):\n",
      "    print '.' , \n",
      "    energies[k] = mp.integrate(thetas[k]).energy()"
     ],
     "language": "python",
     "metadata": {},
     "outputs": []
    },
    {
     "cell_type": "code",
     "collapsed": false,
     "input": [
      "fig = figure()\n",
      "ax = fig.add_subplot(111)\n",
      "ax.yaxis.set_major_locator(MaxNLocator(4))\n",
      "ax.set_xlim(0, 2*np.pi)\n",
      "ax.set_xticks([0, theta_min, pi/2, pi, 3*pi/2, 2*pi])#][theta_min] + list(np.linspace(0, 2*pi, 5)))\n",
      "ax.set_xticklabels([r'$0$', r'$\\theta_{\\mathrm{min}}$', r'$\\pi/2$', r'$\\pi$', r'$3\\pi/2$', r'$2\\pi$'], va='center')\n",
      "ax.xaxis.grid(color='gray', linestyle='dashed', zorder=1)\n",
      "ax.yaxis.grid(color='gray', linestyle='dashed', zorder=1)\n",
      "#ax.set_yticks([0, E_min, 100, 200])\n",
      "ax.tick_params(axis='x', pad=10)\n",
      "ax.plot(thetas, energies, zorder=10)\n",
      "ax.set_xlabel(r'$\\theta_0$')\n",
      "ax.set_ylabel(r'$hE(\\theta_0)$')\n",
      "fig.tight_layout()\n",
      "plt.savefig('Figures/circle-to-eight-energy.pdf')\n",
      "plt.show()"
     ],
     "language": "python",
     "metadata": {},
     "outputs": []
    },
    {
     "cell_type": "code",
     "collapsed": false,
     "input": [],
     "language": "python",
     "metadata": {},
     "outputs": []
    },
    {
     "cell_type": "code",
     "collapsed": false,
     "input": [
      "bbox = ax.get_position(); bbox"
     ],
     "language": "python",
     "metadata": {},
     "outputs": []
    },
    {
     "cell_type": "code",
     "collapsed": false,
     "input": [
      "fig = figure()\n",
      "ax = fig.add_axes(bbox)\n",
      "ax.plot(c0.points[:, 0], c0.points[:, 1], 'b-', linewidth=1)\n",
      "ax.plot(c1.points[:, 0], c1.points[:, 1], 'r--', linewidth=1)\n",
      "ax.set_xlim(-2.2, 2.2)\n",
      "ax.set_ylim(-2.2, 2.2)\n",
      "ax.xaxis.set_major_locator(MaxNLocator(4))\n",
      "ax.yaxis.set_major_locator(MaxNLocator(4))\n",
      "plt.savefig('Figures/circle-to-eight-layout.pdf')\n",
      "plt.show()"
     ],
     "language": "python",
     "metadata": {},
     "outputs": []
    },
    {
     "cell_type": "heading",
     "level": 2,
     "metadata": {},
     "source": [
      "Visualization"
     ]
    },
    {
     "cell_type": "code",
     "collapsed": false,
     "input": [
      "def make_interpolation_visualization(filename, numframes=10, mark_points=True):\n",
      "\n",
      "    plt.clf()\n",
      "    fig = figure(figsize=(15, 1.5))\n",
      "\n",
      "    N = c0.N\n",
      "\n",
      "    for n in xrange(0, numframes):\n",
      "        ax = fig.add_subplot(1, 10, n+1, aspect='equal')#, autoscale_on=False,xlim=(-1.5, 1.5),ylim=(-1.5, 1.5))\n",
      "        print \"%d, \" % n,\n",
      "    \n",
      "        epsilon = float(n)/(numframes-1)\n",
      "    \n",
      "        c0_tr = interp.transform(epsilon)\n",
      "        c0_tr.translate(-c0_tr.mean()) \n",
      "    \n",
      "        if n == 0 or n == numframes-1:\n",
      "            color='black'\n",
      "            zorder=100\n",
      "        else: \n",
      "            color='gray'\n",
      "            zorder=10\n",
      "  \n",
      "        ax.plot(c0_tr.points[:, 0], c0_tr.points[:, 1], color=color, linewidth=3, solid_capstyle='round', zorder=zorder)\n",
      "    \n",
      "        if mark_points:\n",
      "            ax.plot(c0_tr.points[0, 0], c0_tr.points[0, 1], 'o', mec='black', mfc='red', markersize=8, zorder=zorder)\n",
      "            ax.plot(c0_tr.points[N/3, 0], c0_tr.points[N/3, 1], '*', mec='black', mfc='red', markersize=12, zorder=zorder)\n",
      "            ax.plot(c0_tr.points[2*N/3, 0], c0_tr.points[2*N/3, 1], 'v', mec='black', mfc='red', markersize=8, zorder=zorder)\n",
      "    \n",
      "        ax.set_xlim((-1.9, 1.5))\n",
      "        ax.set_ylim((-1.6, 1.6)) \n",
      "        ax.set_frame_on(False)\n",
      "        ax.axes.get_yaxis().set_visible(False)\n",
      "        ax.axes.get_xaxis().set_visible(False)\n",
      "\n",
      "    fig.tight_layout()\n",
      "    fig.savefig(filename, bb_inches='tight')\n",
      "    fig.show()"
     ],
     "language": "python",
     "metadata": {},
     "outputs": []
    },
    {
     "cell_type": "code",
     "collapsed": false,
     "input": [
      "# Find all minimizers (local and global)\n",
      "coarse_prev = 0\n",
      "thetas_min = []\n",
      "for row in sorted(output, key=lambda row: row[2]):\n",
      "    theta_final = row[1]\n",
      "    coarse = float(int(10*theta_final))/10\n",
      "    if coarse != coarse_prev:\n",
      "        thetas_min.append(theta_final)\n",
      "    coarse_prev = coarse\n",
      "    \n",
      "thetas_min"
     ],
     "language": "python",
     "metadata": {},
     "outputs": []
    },
    {
     "cell_type": "code",
     "collapsed": false,
     "input": [
      "for k, angle in enumerate(thetas_min):\n",
      "    g = mp.match(angle)[0]\n",
      "    print g.theta[0], g.energy()\n",
      "    \n",
      "    interp = LiegroupInterpolationMethod(c0, c1, g)\n",
      "    make_interpolation_visualization(\"Figures/circle-to-eight-strip%d.pdf\" % k, numframes=10, mark_points=True)"
     ],
     "language": "python",
     "metadata": {},
     "outputs": []
    },
    {
     "cell_type": "code",
     "collapsed": false,
     "input": [],
     "language": "python",
     "metadata": {},
     "outputs": []
    },
    {
     "cell_type": "code",
     "collapsed": false,
     "input": [],
     "language": "python",
     "metadata": {},
     "outputs": []
    },
    {
     "cell_type": "code",
     "collapsed": false,
     "input": [],
     "language": "python",
     "metadata": {},
     "outputs": []
    },
    {
     "cell_type": "code",
     "collapsed": false,
     "input": [],
     "language": "python",
     "metadata": {},
     "outputs": []
    },
    {
     "cell_type": "heading",
     "level": 2,
     "metadata": {},
     "source": [
      "Influence of number of points on discrepancy"
     ]
    },
    {
     "cell_type": "code",
     "collapsed": false,
     "input": [],
     "language": "python",
     "metadata": {},
     "outputs": []
    },
    {
     "cell_type": "code",
     "collapsed": false,
     "input": [
      "# Note that global variable theta_min is set in previous example\n",
      "\n",
      "def discrepancy(N):\n",
      "    c0 = Circle(N=N)\n",
      "    c1 = FigureEight(N=N)\n",
      "    \n",
      "    mp = MatchingProblem(c0, c1, 2)\n",
      "    \n",
      "    # Translate and align curves\n",
      "    c0.translate(-c0[0])\n",
      "    c1.translate(-c1[0])\n",
      "\n",
      "    phi0 = math.atan2(c0[1,1], c0[1,0])\n",
      "    c0.rotate(-phi0)\n",
      "\n",
      "    phi1 = math.atan2(c1[1,1], c1[1,0])\n",
      "    c1.rotate(-phi1)\n",
      "    \n",
      "    return mp.match(theta_min)[0].energy()"
     ],
     "language": "python",
     "metadata": {},
     "outputs": []
    },
    {
     "cell_type": "code",
     "collapsed": false,
     "input": [
      "numpoints = [11, 101, 1001, 10001]\n",
      "\n",
      "disc = np.empty((len(numpoints), 2))\n",
      "for k, N in enumerate(numpoints): #[32, 101, 317, 1001, 3201]):\n",
      "    disc[k, :] = N, discrepancy(N)\n",
      "print disc"
     ],
     "language": "python",
     "metadata": {},
     "outputs": []
    },
    {
     "cell_type": "code",
     "collapsed": false,
     "input": [
      "# fit loglog curve\n",
      "log_h = log(1./(disc[0:4, 0]-1))\n",
      "log_d = log(disc[0:4, 1])\n",
      "\n",
      "np.polyfit(log_h, log_d, 1)"
     ],
     "language": "python",
     "metadata": {},
     "outputs": []
    },
    {
     "cell_type": "code",
     "collapsed": false,
     "input": [
      "log_h"
     ],
     "language": "python",
     "metadata": {},
     "outputs": []
    },
    {
     "cell_type": "markdown",
     "metadata": {},
     "source": [
      "Plot discrepancy against starting angle (N = 10, 100, 1000 points) to observe convergence\n",
      "---"
     ]
    },
    {
     "cell_type": "code",
     "collapsed": false,
     "input": [
      "def compute_thetas_and_energies(N):\n",
      "    c0 = Circle(N=N)\n",
      "    c1 = FigureEight(N=N)\n",
      "    \n",
      "    mp = MatchingProblem(c0, c1, 2)\n",
      "    \n",
      "    # Translate and align curves\n",
      "    c0.translate(-c0[0,:])\n",
      "    c1.translate(-c1[0,:])\n",
      "\n",
      "    phi0 = math.atan2(c0[1,1], c0[1,0])\n",
      "    c0.rotate(-phi0)\n",
      "\n",
      "    phi1 = math.atan2(c1[1,1], c1[1,0])\n",
      "    c1.rotate(-phi1)\n",
      "    \n",
      "    # Compute energies\n",
      "    n = 100\n",
      "\n",
      "    thetas = np.linspace(0, 2*np.pi, n)\n",
      "    energies = np.empty(n)\n",
      "\n",
      "    for k in xrange(0, n):\n",
      "        print '.' , \n",
      "        energies[k] = mp.integrate(thetas[k]).energy()\n",
      "    \n",
      "    return thetas, energies"
     ],
     "language": "python",
     "metadata": {},
     "outputs": []
    },
    {
     "cell_type": "code",
     "collapsed": false,
     "input": [
      "# Reference \n",
      "thetas, E1000 = compute_thetas_and_energies(1000)"
     ],
     "language": "python",
     "metadata": {},
     "outputs": []
    },
    {
     "cell_type": "code",
     "collapsed": false,
     "input": [],
     "language": "python",
     "metadata": {},
     "outputs": []
    },
    {
     "cell_type": "code",
     "collapsed": false,
     "input": [
      "Es = np.empty((100, 5))\n",
      "for n, k in enumerate(np.logspace(1, 3, 5)):\n",
      "    _, E = compute_thetas_and_energies(int(k))\n",
      "    Es[:, n] = E"
     ],
     "language": "python",
     "metadata": {},
     "outputs": []
    },
    {
     "cell_type": "code",
     "collapsed": false,
     "input": [
      "pts = np.logspace(1, 3, 5)\n",
      "for n in xrange(0, 4):\n",
      "    plot(thetas, Es[:, n], label=r\"$N = %d$\" % pts[n])\n",
      "legend()\n",
      "\n",
      "#savefig('circle-to-eight-convergence.pdf')"
     ],
     "language": "python",
     "metadata": {},
     "outputs": []
    },
    {
     "cell_type": "code",
     "collapsed": false,
     "input": [
      "# Log plot of errors, where the minimizer with 1000 is taken as the exact solution (this will exaggerate the true rate of convergence)\n",
      "\n",
      "errors = []\n",
      "for k in xrange(0, 4):\n",
      "    errors.append(np.linalg.norm(Es[:, k] - E1000))"
     ],
     "language": "python",
     "metadata": {},
     "outputs": []
    },
    {
     "cell_type": "code",
     "collapsed": false,
     "input": [
      "loglog(pts[0:4], errors, '-o')\n",
      "loglog([10, 100], [100, 10], 'r-') # Reference line with slope -1\n",
      "\n",
      "# savefig('circle-to-eight-numerical-error.pdf')"
     ],
     "language": "python",
     "metadata": {},
     "outputs": []
    },
    {
     "cell_type": "markdown",
     "metadata": {},
     "source": [
      "Sanity checks\n",
      "---"
     ]
    },
    {
     "cell_type": "code",
     "collapsed": false,
     "input": [
      "# Plot energies \n",
      "plot(output[:, 2], 'o')"
     ],
     "language": "python",
     "metadata": {},
     "outputs": []
    },
    {
     "cell_type": "code",
     "collapsed": false,
     "input": [
      "# Plot of residuals\n",
      "plot(output[:, 3])"
     ],
     "language": "python",
     "metadata": {},
     "outputs": []
    },
    {
     "cell_type": "code",
     "collapsed": false,
     "input": [
      "# Plot # of iterations\n",
      "plot(output[:, 4], 'o')"
     ],
     "language": "python",
     "metadata": {},
     "outputs": []
    },
    {
     "cell_type": "code",
     "collapsed": false,
     "input": [],
     "language": "python",
     "metadata": {},
     "outputs": []
    },
    {
     "cell_type": "code",
     "collapsed": false,
     "input": [
      "# Plot residual for those starting values for which the Newton iteration converged\n",
      "plot(output[output[:, 4] < 20, 3]) "
     ],
     "language": "python",
     "metadata": {},
     "outputs": []
    },
    {
     "cell_type": "markdown",
     "metadata": {},
     "source": [
      "Verify that the discrepancy is asymetric (tiny circle, regular figure-eight)\n",
      "---"
     ]
    },
    {
     "cell_type": "code",
     "collapsed": false,
     "input": [
      "c0 = Circle(.1, N=100)\n",
      "c1 = FigureEight(N=100)\n",
      "\n",
      "# Translate and align curves\n",
      "c0.translate(-c0[0,:])\n",
      "c1.translate(-c1[0,:])\n",
      "\n",
      "#phi0 = math.atan2(c0[1,1], c0[1,0])\n",
      "#c0.rotate(-phi0)\n",
      "\n",
      "#phi1 = math.atan2(c1[1,1], c1[1,0])\n",
      "#c1.rotate(-phi1)"
     ],
     "language": "python",
     "metadata": {},
     "outputs": []
    },
    {
     "cell_type": "code",
     "collapsed": false,
     "input": [
      "mp = MatchingProblem(c0, c1, 2)"
     ],
     "language": "python",
     "metadata": {},
     "outputs": []
    },
    {
     "cell_type": "code",
     "collapsed": true,
     "input": [
      "# Recompute minimizer\n",
      "g, res, n_iter = mp.match(0)"
     ],
     "language": "python",
     "metadata": {},
     "outputs": []
    },
    {
     "cell_type": "code",
     "collapsed": false,
     "input": [
      "g.energy()"
     ],
     "language": "python",
     "metadata": {},
     "outputs": []
    },
    {
     "cell_type": "code",
     "collapsed": false,
     "input": [
      "# Plot theta of minimizer\n",
      "fig = figure()\n",
      "ax = fig.add_subplot(111, title='Circle to figure eight')\n",
      "\n",
      "ax.plot((g.theta + pi) % (2*pi) - pi, zorder=10) # Plot angle in range [-pi, pi]\n",
      "    \n",
      "ax.set_xlabel(r'$k$')\n",
      "ax.set_ylabel(r'$\\theta$-coordinate')\n",
      "\n",
      "ax.yaxis.set_major_locator(MaxNLocator(6))\n",
      "\n",
      "ax.xaxis.grid(color='gray', linestyle='dashed', zorder=1)\n",
      "ax.yaxis.grid(color='gray', linestyle='dashed', zorder=1)\n",
      "\n",
      "fig.tight_layout()\n",
      "fig.savefig('Figures/theta-dot-to-eight.pdf')\n"
     ],
     "language": "python",
     "metadata": {},
     "outputs": []
    },
    {
     "cell_type": "code",
     "collapsed": false,
     "input": [],
     "language": "python",
     "metadata": {},
     "outputs": []
    },
    {
     "cell_type": "code",
     "collapsed": true,
     "input": [
      "interp = LiegroupInterpolationMethod(c0, c1, g)"
     ],
     "language": "python",
     "metadata": {},
     "outputs": []
    },
    {
     "cell_type": "code",
     "collapsed": false,
     "input": [
      "make_interpolation_visualization(\"Figures/strip_tiny_circle.pdf\", numframes=10, mark_points=True)"
     ],
     "language": "python",
     "metadata": {},
     "outputs": []
    },
    {
     "cell_type": "code",
     "collapsed": true,
     "input": [
      "c1 = Circle(radius=.1, N=100)\n",
      "c0 = FigureEight(N=100)"
     ],
     "language": "python",
     "metadata": {},
     "outputs": []
    },
    {
     "cell_type": "code",
     "collapsed": true,
     "input": [
      "c0.translate(-c0[0,:])\n",
      "c1.translate(-c1[0,:])"
     ],
     "language": "python",
     "metadata": {},
     "outputs": []
    },
    {
     "cell_type": "code",
     "collapsed": true,
     "input": [
      "mp = MatchingProblem(c0, c1, 2)"
     ],
     "language": "python",
     "metadata": {},
     "outputs": []
    },
    {
     "cell_type": "code",
     "collapsed": false,
     "input": [
      "energies = mp.sweep_theta_range(40)"
     ],
     "language": "python",
     "metadata": {},
     "outputs": []
    },
    {
     "cell_type": "code",
     "collapsed": true,
     "input": [
      "# Recompute minimizer\n",
      "g, res, n_iter = mp.match(0)"
     ],
     "language": "python",
     "metadata": {},
     "outputs": []
    },
    {
     "cell_type": "code",
     "collapsed": false,
     "input": [
      "g.energy()"
     ],
     "language": "python",
     "metadata": {},
     "outputs": []
    },
    {
     "cell_type": "code",
     "collapsed": false,
     "input": [
      "# Plot theta of minimizer\n",
      "fig = figure()\n",
      "ax = fig.add_subplot(111, title='Figure eight to circle')\n",
      "\n",
      "ax.plot((g.theta + pi) % (2*pi) - pi, zorder=10) # Plot angle in range [-pi, pi]\n",
      "    \n",
      "ax.set_xlabel(r'$k$')\n",
      "ax.set_ylabel(r'$\\theta$-coordinate')\n",
      "\n",
      "ax.yaxis.set_major_locator(MaxNLocator(6))\n",
      "\n",
      "ax.xaxis.grid(color='gray', linestyle='dashed', zorder=1)\n",
      "ax.yaxis.grid(color='gray', linestyle='dashed', zorder=1)\n",
      "\n",
      "fig.tight_layout()\n",
      "fig.savefig('Figures/theta-eight-to-dot.pdf')\n"
     ],
     "language": "python",
     "metadata": {},
     "outputs": []
    },
    {
     "cell_type": "code",
     "collapsed": true,
     "input": [
      "interp = LiegroupInterpolationMethod(c0, c1, g)"
     ],
     "language": "python",
     "metadata": {},
     "outputs": []
    },
    {
     "cell_type": "code",
     "collapsed": true,
     "input": [
      "make_interpolation_visualization(\"Figures/strip_tiny_circle2.pdf\", numframes=10, mark_points=True)"
     ],
     "language": "python",
     "metadata": {},
     "outputs": []
    },
    {
     "cell_type": "code",
     "collapsed": false,
     "input": [],
     "language": "python",
     "metadata": {},
     "outputs": []
    }
   ],
   "metadata": {}
  }
 ]
}