{
 "metadata": {
  "name": "Test case (polynomials)"
 },
 "nbformat": 3,
 "nbformat_minor": 0,
 "worksheets": [
  {
   "cells": [
    {
     "cell_type": "code",
     "collapsed": false,
     "input": [
      "from matplotlib.ticker import MaxNLocator"
     ],
     "language": "python",
     "metadata": {},
     "outputs": []
    },
    {
     "cell_type": "code",
     "collapsed": false,
     "input": [
      "from matplotlib import rc\n",
      "rc('font',**{'family':'serif','serif':['Computer Modern']})\n",
      "rc('text', usetex=True)\n",
      "rc('font', size=11)\n",
      "rc('figure', figsize=(3, 2))\n",
      "rc('axes', linewidth=.5)\n",
      "rc('lines', linewidth=.75)\n",
      "rc('axes', titlesize=11)"
     ],
     "language": "python",
     "metadata": {},
     "outputs": []
    },
    {
     "cell_type": "code",
     "collapsed": false,
     "input": [
      "import cPickle\n",
      "\n",
      "def unpickle_dict(filename):\n",
      "    d = {}\n",
      "    try:\n",
      "        f = open(filename)\n",
      "        d = cPickle.load(f)\n",
      "        f.close()\n",
      "    except IOError:\n",
      "        pass\n",
      "    return d\n",
      "\n",
      "def pickle_dict(filename, d):\n",
      "    f = open(filename, 'w')\n",
      "    cPickle.dump(d, f)\n",
      "    f.close()"
     ],
     "language": "python",
     "metadata": {},
     "outputs": []
    },
    {
     "cell_type": "code",
     "collapsed": false,
     "input": [
      "import numpy as np"
     ],
     "language": "python",
     "metadata": {},
     "outputs": []
    },
    {
     "cell_type": "code",
     "collapsed": false,
     "input": [
      "from discrepancy.matching import MatchingProblem\n",
      "from discrepancy.curves import DiscreteCurve, sample_continuous_curve\n",
      "from discrepancy.tools import separate_energies\n",
      "from discrepancy.ode_system import right_boundary_condition\n",
      "from discrepancy.interpolation import LiegroupInterpolationMethod\n",
      "from discrepancy.curves import Circle, FigureEight, LogSpiral"
     ],
     "language": "python",
     "metadata": {},
     "outputs": []
    },
    {
     "cell_type": "code",
     "collapsed": false,
     "input": [
      "N = 100 # Number of points\n",
      "m = 2 # Angular velocity weight\n",
      "h = 1./(N-1) # Parameter increment"
     ],
     "language": "python",
     "metadata": {},
     "outputs": []
    },
    {
     "cell_type": "heading",
     "level": 2,
     "metadata": {},
     "source": [
      "Discrepancy between $x$ -axis and graph of $x^p\\,$"
     ]
    },
    {
     "cell_type": "code",
     "collapsed": false,
     "input": [
      "p = 50"
     ],
     "language": "python",
     "metadata": {},
     "outputs": []
    },
    {
     "cell_type": "code",
     "collapsed": false,
     "input": [
      "c0 = DiscreteCurve(N=N)\n",
      "c1 = DiscreteCurve(N=N)\n",
      "for k in xrange(0, N):\n",
      "    x = k*h\n",
      "    c0[k] = (x, 0)\n",
      "    c1[k] = (x, x**p)"
     ],
     "language": "python",
     "metadata": {},
     "outputs": []
    },
    {
     "cell_type": "code",
     "collapsed": false,
     "input": [
      "# Translate back to the origin and plot\n",
      "\n",
      "c0.translate(-c0[0])\n",
      "c1.translate(-c1[0])\n",
      "\n",
      "plot(c0.points[:, 0], c0.points[:, 1])\n",
      "plot(c1.points[:, 0], c1.points[:, 1])\n",
      "\n",
      "xlim(-.5, 1.5)\n",
      "ylim(-.5, 1.5)"
     ],
     "language": "python",
     "metadata": {},
     "outputs": []
    },
    {
     "cell_type": "code",
     "collapsed": false,
     "input": [
      "mp = MatchingProblem(c0, c1, m)"
     ],
     "language": "python",
     "metadata": {},
     "outputs": []
    },
    {
     "cell_type": "code",
     "collapsed": false,
     "input": [],
     "language": "python",
     "metadata": {},
     "outputs": []
    },
    {
     "cell_type": "code",
     "collapsed": false,
     "input": [
      "output = mp.sweep_theta_range(50)"
     ],
     "language": "python",
     "metadata": {},
     "outputs": []
    },
    {
     "cell_type": "code",
     "collapsed": false,
     "input": [
      "# Plot energy for range of thetas\n",
      "energies = []\n",
      "thetas = []\n",
      "for theta in np.linspace(0, 2*pi, 50):\n",
      "    print '.',\n",
      "    g = mp.integrate(theta)\n",
      "    energies.append(g.energy())\n",
      "    thetas.append(theta)"
     ],
     "language": "python",
     "metadata": {},
     "outputs": []
    },
    {
     "cell_type": "code",
     "collapsed": false,
     "input": [],
     "language": "python",
     "metadata": {},
     "outputs": []
    },
    {
     "cell_type": "code",
     "collapsed": false,
     "input": [
      "fig = figure()\n",
      "ax = fig.add_subplot(111)\n",
      "#ax.set_ylim(-0.2, 2.2)\n",
      "#ax.set_xlim(0, 2*np.pi)\n",
      "#ax.set_xticks(np.linspace(0, 2*pi, 5))\n",
      "#ax.set_xticklabels([r'$0$', r'$\\pi/2$', r'$\\pi$', r'$3\\pi/2$', r'$2\\pi$'], va='baseline')\n",
      "#ax.tick_params(axis='x', pad=18)\n",
      "ax.set_xlabel(r'$\\theta_0$')\n",
      "ax.set_ylabel(r'$hE(\\theta_0)$')\n",
      "ax.xaxis.grid(color='gray', linestyle='dashed', zorder=1)\n",
      "ax.yaxis.grid(color='gray', linestyle='dashed', zorder=1)\n",
      "ax.plot(thetas, energies, zorder=10)\n",
      "fig.tight_layout()\n",
      "plt.savefig('Figures/polynomials-energy.pdf')\n",
      "plt.show()"
     ],
     "language": "python",
     "metadata": {},
     "outputs": []
    },
    {
     "cell_type": "code",
     "collapsed": false,
     "input": [
      "# Value of the minimum\n",
      "_, theta_min, E_min, _, _ = min(output, key=lambda row: row[2])\n",
      "print theta_min, E_min"
     ],
     "language": "python",
     "metadata": {},
     "outputs": []
    },
    {
     "cell_type": "heading",
     "level": 2,
     "metadata": {},
     "source": [
      "Visualization"
     ]
    },
    {
     "cell_type": "code",
     "collapsed": false,
     "input": [
      "def make_interpolation_visualization(filename, interpolator, numframes=10, mark_points=True):\n",
      "\n",
      "    plt.clf()\n",
      "    fig = figure(figsize=(15, 1.5))\n",
      "\n",
      "    N = c0.N\n",
      "\n",
      "    for n in xrange(0, numframes):\n",
      "        ax = fig.add_subplot(1, 10, n+1, aspect='equal')#, autoscale_on=False,xlim=(-1.5, 1.5),ylim=(-1.5, 1.5))\n",
      "        print \"%d, \" % n,\n",
      "    \n",
      "        epsilon = float(n)/(numframes-1)\n",
      "    \n",
      "        c0_tr = interpolator.transform(epsilon)\n",
      "        #c0_tr.translate(-c0_tr.mean()) \n",
      "    \n",
      "        if n == 0 or n == numframes-1:\n",
      "            color='black'\n",
      "            zorder=100\n",
      "        else: \n",
      "            color='gray'\n",
      "            zorder=10\n",
      "  \n",
      "        ax.plot(c0_tr.points[:, 0], c0_tr.points[:, 1], color=color, linewidth=3, solid_capstyle='round', zorder=zorder)\n",
      "    \n",
      "        if mark_points:\n",
      "            ax.plot(c0_tr.points[0, 0], c0_tr.points[0, 1], 'o', mec='black', mfc='red', markersize=8, zorder=zorder)\n",
      "            ax.plot(c0_tr.points[N/2, 0], c0_tr.points[N/2, 1], '*', mec='black', mfc='red', markersize=12, zorder=zorder)\n",
      "            ax.plot(c0_tr.points[N-1, 0], c0_tr.points[N-1, 1], 'v', mec='black', mfc='red', markersize=8, zorder=zorder)\n",
      "    \n",
      "        ax.set_xlim((-0.5, 1.5))\n",
      "        ax.set_ylim((-0.5, 1.5)) \n",
      "        ax.set_frame_on(False)\n",
      "        ax.axes.get_yaxis().set_visible(False)\n",
      "        ax.axes.get_xaxis().set_visible(False)\n",
      "\n",
      "    fig.tight_layout()\n",
      "    fig.savefig(filename, bb_inches='tight')\n",
      "    fig.show()"
     ],
     "language": "python",
     "metadata": {},
     "outputs": []
    },
    {
     "cell_type": "code",
     "collapsed": false,
     "input": [
      "g = mp.match(theta_min)[0]\n",
      "print g.theta[0], g.energy()\n",
      "interpolator = LiegroupInterpolationMethod(c0, c1, g)"
     ],
     "language": "python",
     "metadata": {},
     "outputs": []
    },
    {
     "cell_type": "code",
     "collapsed": false,
     "input": [
      "make_interpolation_visualization('Figures/strip-polynomial.pdf', interpolator, numframes=10, mark_points=True)"
     ],
     "language": "python",
     "metadata": {},
     "outputs": []
    },
    {
     "cell_type": "heading",
     "level": 2,
     "metadata": {},
     "source": [
      "Higher powers (in arc length)"
     ]
    },
    {
     "cell_type": "code",
     "collapsed": false,
     "input": [
      "m = 2\n",
      "p_range = [0, 1, 2, 3, 4, 5, 10, 15, 20, 25]"
     ],
     "language": "python",
     "metadata": {},
     "outputs": []
    },
    {
     "cell_type": "code",
     "collapsed": false,
     "input": [
      "# Find arclength parametrization\n",
      "\n",
      "from scipy.integrate import quadrature\n",
      "from scipy.optimize import fsolve\n",
      "\n",
      "def arclength(x, p):\n",
      "    \"\"\"\n",
      "    Given a point on the curve y = x^p, returns the arclength coordinate.\n",
      "\n",
      "    \"\"\"\n",
      "    if p == 0:\n",
      "        return x\n",
      "    else:\n",
      "        return quadrature(lambda x: sqrt(1 + p**2 * x**(2*p-2)), 0, x)[0]\n",
      "\n",
      "def inverse_arclength(s, p):\n",
      "    \"\"\"\n",
      "    Given an arclength value, return the x-coordinate of the corresponding point.\n",
      "\n",
      "    \"\"\"\n",
      "    return fsolve(lambda x: arclength(x, p) - s, s)[0]\n",
      "\n",
      "def polynomial_curve_arclength(N=100, p=2, l=1):\n",
      "    \"\"\"\n",
      "    Construct a discrete curve consisting of N equally spaced points on the \n",
      "    segment of curve y = x^p through the origin, with length l, in the \n",
      "    direction of the positive x-axis.\n",
      "\n",
      "    \"\"\"\n",
      "    h = float(l)/(N-1)\n",
      "    c = DiscreteCurve(smin=0., smax=l, N=N)\n",
      "    \n",
      "    for k in xrange(0, N):\n",
      "        x = inverse_arclength(k*h, p)\n",
      "        if p == 0:\n",
      "            c.points[k] = (x, 0)\n",
      "        else:\n",
      "            c.points[k] = (x, x**p)\n",
      "        \n",
      "    return c"
     ],
     "language": "python",
     "metadata": {},
     "outputs": []
    },
    {
     "cell_type": "code",
     "collapsed": false,
     "input": [
      "# Precompute array of unit length curves for p = 0, ..., 10\n",
      "polynomial_curves = unpickle_dict('data/polynomial_curves.dat')"
     ],
     "language": "python",
     "metadata": {},
     "outputs": []
    },
    {
     "cell_type": "code",
     "collapsed": false,
     "input": [
      "for p in xrange(0, 26):\n",
      "    if p not in polynomial_curves:\n",
      "        print \"Computing polynomial curve with p = %d\" % p\n",
      "        polynomial_curves[p] = polynomial_curve_arclength(p=p)\n",
      "        \n",
      "pickle_dict('data/polynomial_curves.dat', polynomial_curves)"
     ],
     "language": "python",
     "metadata": {},
     "outputs": []
    },
    {
     "cell_type": "code",
     "collapsed": false,
     "input": [
      "# Plot polynomials\n",
      "fig = figure()\n",
      "ax = fig.add_subplot(111, aspect='equal')\n",
      "\n",
      "for p in p_range:\n",
      "    ax.plot(polynomial_curves[p].points[:, 0], polynomial_curves[p].points[:,1])\n",
      "\n",
      "ax.set_ylim((-.1, 1))\n",
      "ax.set_xlim((-.1, 1))"
     ],
     "language": "python",
     "metadata": {},
     "outputs": []
    },
    {
     "cell_type": "code",
     "collapsed": false,
     "input": [
      "# For the sake of reference, compute total absolute curvatures\n",
      "\n",
      "def rho(s, p):\n",
      "    \"\"\"\n",
      "    Curvature of the curve y = x^p in arclength parametrization.\n",
      "\n",
      "    \"\"\"\n",
      "    x_pow = inverse_arclength(s, p)**(p-1)\n",
      "    return p * (p-1) * x_pow / (1 + p**2 * x_pow**2)**(1.5)\n",
      "\n",
      "def total_absolute_rho(p, **kwargs):\n",
      "    \"\"\"\n",
      "    Compute the integral over [0, 1] of the absolute value of the curvature.\n",
      "\n",
      "    \"\"\"\n",
      "    return quadrature(lambda s : abs(rho(s, p)), 0, 1, vec_func=False, **kwargs)"
     ],
     "language": "python",
     "metadata": {},
     "outputs": []
    },
    {
     "cell_type": "code",
     "collapsed": false,
     "input": [
      "curvatures = unpickle_dict('data/curvatures.dat')"
     ],
     "language": "python",
     "metadata": {},
     "outputs": []
    },
    {
     "cell_type": "code",
     "collapsed": false,
     "input": [
      "for p in xrange(1, 26):\n",
      "    if p not in curvatures:\n",
      "        print \"Computing total absolute curvature for p = %d. \" % p,\n",
      "        curvatures[p], accuracy = total_absolute_rho(p, tol=1e-6)\n",
      "        print \"Result: %f, accuracy: %e\" % (curvatures[p], accuracy)"
     ],
     "language": "python",
     "metadata": {},
     "outputs": []
    },
    {
     "cell_type": "code",
     "collapsed": false,
     "input": [
      "pickle_dict('data/curvatures.dat', curvatures)"
     ],
     "language": "python",
     "metadata": {},
     "outputs": []
    },
    {
     "cell_type": "code",
     "collapsed": false,
     "input": [
      "# Compute discrepancies\n",
      "\n",
      "theta_min = unpickle_dict('data/theta_min_polynomials.dat')\n",
      "E_min = unpickle_dict('data/E_min_polynomials.dat')"
     ],
     "language": "python",
     "metadata": {},
     "outputs": []
    },
    {
     "cell_type": "code",
     "collapsed": false,
     "input": [
      "for p in xrange(1, 26):\n",
      "    if p in theta_min and p in E_min: \n",
      "        continue\n",
      "    \n",
      "    # Find minimizer for each p\n",
      "    print \"Sweeping for p = %d.\" % p,\n",
      "    \n",
      "    mp = MatchingProblem(polynomial_curves[0], polynomial_curves[p], m)\n",
      "    output = mp.sweep_theta_range(50, verbose=False)\n",
      "    \n",
      "    # Value of the minimum\n",
      "    theta, E = min(output, key=lambda row: row[2])[1:3]\n",
      "    theta_min[p] = theta\n",
      "    E_min[p] = E\n",
      "    \n",
      "    print \"theta_min = %f, E_min = %f\" % (theta, E)"
     ],
     "language": "python",
     "metadata": {},
     "outputs": []
    },
    {
     "cell_type": "code",
     "collapsed": false,
     "input": [
      "pickle_dict('data/theta_min_polynomials.dat', theta_min)\n",
      "pickle_dict('data/E_min_polynomials.dat', E_min)"
     ],
     "language": "python",
     "metadata": {},
     "outputs": []
    },
    {
     "cell_type": "code",
     "collapsed": false,
     "input": [
      "theta_min"
     ],
     "language": "python",
     "metadata": {},
     "outputs": []
    },
    {
     "cell_type": "code",
     "collapsed": false,
     "input": [
      "E_min"
     ],
     "language": "python",
     "metadata": {},
     "outputs": []
    },
    {
     "cell_type": "code",
     "collapsed": false,
     "input": [
      "# Print-quality figure\n",
      "\n",
      "epsilon = .03\n",
      "p_selected = set([0, 1, 2, 5, 10, 25]) # Emphasize these curves\n",
      "p_remaining = set(p_range) - p_selected # Other curves to be drawn in gray, without label\n",
      "\n",
      "fig = figure()\n",
      "ax = fig.add_subplot(111, aspect='equal')\n",
      "\n",
      "for p in p_selected:\n",
      "    c = polynomial_curves[p].points\n",
      "    ax.plot(c[:, 0], c[:,1], color='black', zorder=10)\n",
      "    ax.text(c[-1, 0] + epsilon, c[-1, 1], '$p = %d$' % p)\n",
      "\n",
      "for p in p_remaining:\n",
      "    c = polynomial_curves[p].points\n",
      "    ax.plot(c[:, 0], c[:,1], color='gray', zorder=1)\n",
      "\n",
      "ax.set_ylim((-.1, .8))\n",
      "ax.set_xlim((-.1, 1.4))\n",
      "\n",
      "ax.set_xticks((0., 1))\n",
      "ax.set_yticks((0., .7))\n",
      "\n",
      "fig.tight_layout()\n",
      "fig.savefig('Figures/polynomials.pdf')"
     ],
     "language": "python",
     "metadata": {},
     "outputs": []
    },
    {
     "cell_type": "code",
     "collapsed": false,
     "input": [
      "E_list = [] # Discrepancies\n",
      "k_list = [] # Curvatures\n",
      "for p in xrange(1, 26):\n",
      "    E_list.append(E_min[p])\n",
      "    k_list.append(curvatures[p])"
     ],
     "language": "python",
     "metadata": {},
     "outputs": []
    },
    {
     "cell_type": "code",
     "collapsed": false,
     "input": [
      "E_list.index(max(E_list))"
     ],
     "language": "python",
     "metadata": {},
     "outputs": []
    },
    {
     "cell_type": "code",
     "collapsed": false,
     "input": [
      "fig = figure(figsize=(3, 2))\n",
      "\n",
      "ax1 = fig.add_subplot(211, title=r'Total absolute curvature $\\kappa(\\mathbf{c}_p)$')\n",
      "ax2 = fig.add_subplot(212, title=r'Discrepancy $\\delta(\\mathbf{c}_0, \\mathbf{c}_p)$')\n",
      "\n",
      "ax1.plot(range(1, 26), k_list, zorder=10)\n",
      "ax2.plot(range(1, 26), E_list, zorder=10)\n",
      "\n",
      "ax1.set_xticklabels([])\n",
      "\n",
      "ax1.set_yticks([0, .6, 1.2])\n",
      "ax2.set_yticks([0, .04, .08])\n",
      "\n",
      "ax1.xaxis.grid(color='gray', linestyle='dashed', zorder=1)\n",
      "ax1.yaxis.grid(color='gray', linestyle='dashed', zorder=1)\n",
      "ax2.xaxis.grid(color='gray', linestyle='dashed', zorder=1)\n",
      "ax2.yaxis.grid(color='gray', linestyle='dashed', zorder=1)\n",
      "\n",
      "fig.tight_layout()\n",
      "fig.savefig('Figures/discrepancy-vs-curvature.pdf')"
     ],
     "language": "python",
     "metadata": {},
     "outputs": []
    },
    {
     "cell_type": "code",
     "collapsed": false,
     "input": [],
     "language": "python",
     "metadata": {},
     "outputs": []
    }
   ],
   "metadata": {}
  }
 ]
}