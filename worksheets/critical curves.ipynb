{
 "metadata": {
  "name": "critical curves"
 }, 
 "nbformat": 2, 
 "worksheets": [
  {
   "cells": [
    {
     "cell_type": "code", 
     "collapsed": true, 
     "input": [
      "import sys", 
      "sys.path.append('../src')"
     ], 
     "language": "python", 
     "outputs": [], 
     "prompt_number": 3
    }, 
    {
     "cell_type": "code", 
     "collapsed": false, 
     "input": [
      "from matching import MatchingProblem", 
      "from curves import FigureEight, LogSpiral", 
      "from tools import separate_energies"
     ], 
     "language": "python", 
     "outputs": [], 
     "prompt_number": 4
    }, 
    {
     "cell_type": "code", 
     "collapsed": false, 
     "input": [
      "c0 = FigureEight(N=10)", 
      "c1 = LogSpiral(N=10)"
     ], 
     "language": "python", 
     "outputs": [], 
     "prompt_number": 5
    }, 
    {
     "cell_type": "code", 
     "collapsed": true, 
     "input": [
      "c0.translate(-c0[0,:])", 
      "c1.translate(-c1[0,:])"
     ], 
     "language": "python", 
     "outputs": [], 
     "prompt_number": 6
    }, 
    {
     "cell_type": "code", 
     "collapsed": true, 
     "input": [
      "mp = MatchingProblem(c0, c1, 2)"
     ], 
     "language": "python", 
     "outputs": [], 
     "prompt_number": 7
    }, 
    {
     "cell_type": "code", 
     "collapsed": false, 
     "input": [
      "energies = mp.sweep_theta_range(20)"
     ], 
     "language": "python", 
     "outputs": [
      {
       "output_type": "stream", 
       "stream": "stdout", 
       "text": [
        "0: theta_guess = 0.000000,  "
       ]
      }, 
      {
       "output_type": "stream", 
       "stream": "stdout", 
       "text": [
        "E = 6.860956e+01, res = -2.112178e-10, n_iter = 12", 
        "1: theta_guess = 0.314159,  "
       ]
      }, 
      {
       "output_type": "stream", 
       "stream": "stdout", 
       "text": [
        "E = 3.204926e+01, res = 4.771670e-09, n_iter = 6", 
        "2: theta_guess = 0.628319,  "
       ]
      }, 
      {
       "output_type": "stream", 
       "stream": "stdout", 
       "text": [
        "E = 3.204926e+01, res = -5.105151e-10, n_iter = 5", 
        "3: theta_guess = 0.942478,  "
       ]
      }, 
      {
       "output_type": "stream", 
       "stream": "stdout", 
       "text": [
        "E = 3.204926e+01, res = -4.193518e-10, n_iter = 7", 
        "4: theta_guess = 1.256637,  "
       ]
      }, 
      {
       "output_type": "stream", 
       "stream": "stdout", 
       "text": [
        "E = 6.860956e+01, res = -7.628838e-09, n_iter = 7", 
        "5: theta_guess = 1.570796,  "
       ]
      }, 
      {
       "output_type": "stream", 
       "stream": "stdout", 
       "text": [
        "E = 6.860956e+01, res = -1.045636e-10, n_iter = 9", 
        "6: theta_guess = 1.884956,  "
       ]
      }, 
      {
       "output_type": "stream", 
       "stream": "stdout", 
       "text": [
        "E = 6.860956e+01, res = -4.226035e-10, n_iter = 7", 
        "7: theta_guess = 2.199115,  "
       ]
      }, 
      {
       "output_type": "stream", 
       "stream": "stdout", 
       "text": [
        "E = 6.860956e+01, res = -1.350362e-10, n_iter = 7", 
        "8: theta_guess = 2.513274,  "
       ]
      }, 
      {
       "output_type": "stream", 
       "stream": "stdout", 
       "text": [
        "E = 6.860956e+01, res = -5.379025e-09, n_iter = 6", 
        "9: theta_guess = 2.827433,  "
       ]
      }, 
      {
       "output_type": "stream", 
       "stream": "stdout", 
       "text": [
        "E = 6.860956e+01, res = -2.250933e-09, n_iter = 6", 
        "10: theta_guess = 3.141593,  "
       ]
      }, 
      {
       "output_type": "stream", 
       "stream": "stdout", 
       "text": [
        "E = 6.860956e+01, res = -9.106122e-10, n_iter = 6", 
        "11: theta_guess = 3.455752,  "
       ]
      }, 
      {
       "output_type": "stream", 
       "stream": "stdout", 
       "text": [
        "E = 6.860956e+01, res = -1.579780e-10, n_iter = 6", 
        "12: theta_guess = 3.769911,  "
       ]
      }, 
      {
       "output_type": "stream", 
       "stream": "stdout", 
       "text": [
        "E = 6.860956e+01, res = -1.515753e-10, n_iter = 5", 
        "13: theta_guess = 4.084070,  "
       ]
      }, 
      {
       "output_type": "stream", 
       "stream": "stdout", 
       "text": [
        "E = 6.860956e+01, res = -2.468436e-10, n_iter = 6", 
        "14: theta_guess = 4.398230,  "
       ]
      }, 
      {
       "output_type": "stream", 
       "stream": "stdout", 
       "text": [
        "E = 6.860956e+01, res = -6.761021e-10, n_iter = 6", 
        "15: theta_guess = 4.712389,  "
       ]
      }, 
      {
       "output_type": "stream", 
       "stream": "stdout", 
       "text": [
        "E = 6.860956e+01, res = 5.567329e-09, n_iter = 5", 
        "16: theta_guess = 5.026548,  "
       ]
      }, 
      {
       "output_type": "stream", 
       "stream": "stdout", 
       "text": [
        "E = 6.860956e+01, res = -1.843326e-10, n_iter = 7", 
        "17: theta_guess = 5.340708,  "
       ]
      }, 
      {
       "output_type": "stream", 
       "stream": "stdout", 
       "text": [
        "E = 6.860956e+01, res = -3.658571e-10, n_iter = 8", 
        "18: theta_guess = 5.654867,  "
       ]
      }, 
      {
       "output_type": "stream", 
       "stream": "stdout", 
       "text": [
        "E = 6.860956e+01, res = -1.249093e-09, n_iter = 7", 
        "19: theta_guess = 5.969026,  "
       ]
      }, 
      {
       "output_type": "stream", 
       "stream": "stdout", 
       "text": [
        "E = 6.860956e+01, res = -6.737094e-10, n_iter = 8"
       ]
      }
     ], 
     "prompt_number": 15
    }, 
    {
     "cell_type": "code", 
     "collapsed": false, 
     "input": [
      "#E_conv, E_div = separate_energies(energies)"
     ], 
     "language": "python", 
     "outputs": [], 
     "prompt_number": 16
    }, 
    {
     "cell_type": "code", 
     "collapsed": false, 
     "input": [
      "g, res, n_iter = mp.match(0)"
     ], 
     "language": "python", 
     "outputs": [], 
     "prompt_number": 17
    }, 
    {
     "cell_type": "code", 
     "collapsed": false, 
     "input": [
      "g.theta"
     ], 
     "language": "python", 
     "outputs": [
      {
       "output_type": "pyout", 
       "prompt_number": 18, 
       "text": [
        "array([ 3.75448819,  3.75448819, -2.78584158,  3.12195945,  3.02732801,", 
        "        3.0675237 ,  3.12067804, -2.87829253, -2.70845229, -2.70845229])"
       ]
      }
     ], 
     "prompt_number": 18
    }, 
    {
     "cell_type": "code", 
     "collapsed": false, 
     "input": [
      "g.omega"
     ], 
     "language": "python", 
     "outputs": [
      {
       "output_type": "pyout", 
       "prompt_number": 20, 
       "text": [
        "array([  0.00000000e+00,  -2.58570830e-01,  -3.79855340e-01,", 
        "        -9.47021213e-02,   4.02011022e-02,   5.31668519e-02,", 
        "         2.86143513e-01,   1.70249688e-01,  -8.40787995e-11])"
       ]
      }
     ], 
     "prompt_number": 20
    }, 
    {
     "cell_type": "code", 
     "collapsed": true, 
     "input": [
      "import math"
     ], 
     "language": "python", 
     "outputs": [], 
     "prompt_number": 13
    }, 
    {
     "cell_type": "code", 
     "collapsed": false, 
     "input": [
      "for k in xrange(1, g.omega.shape[0]-1):", 
      "    print math.tan((g.theta[k+1] - g.theta[k])/2) - g.omega[k]/2"
     ], 
     "language": "python", 
     "outputs": [
      {
       "output_type": "stream", 
       "stream": "stdout", 
       "text": [
        "3.05311331772e-16", 
        "0.0", 
        "-3.46944695195e-17", 
        "5.89805981832e-17", 
        "1.38777878078e-17", 
        "2.49800180541e-16", 
        "-2.77555756156e-17"
       ]
      }
     ], 
     "prompt_number": 14
    }, 
    {
     "cell_type": "code", 
     "collapsed": true, 
     "input": [
      "math.tan?"
     ], 
     "language": "python", 
     "outputs": [], 
     "prompt_number": 22
    }, 
    {
     "cell_type": "code", 
     "collapsed": false, 
     "input": [
      "g.v"
     ], 
     "language": "python", 
     "outputs": [
      {
       "output_type": "pyout", 
       "prompt_number": 19, 
       "text": [
        "array([[-1.05841261, -1.29420633],", 
        "       [ 0.81980322, -0.6174375 ],", 
        "       [ 1.38420184,  0.10321956],", 
        "       [-0.06333977,  0.86970691],", 
        "       [-1.38774726,  1.09185585],", 
        "       [-0.54937284,  0.71868703],", 
        "       [ 0.60677766,  0.09274179],", 
        "       [ 0.21795419, -0.32607735],", 
        "       [-1.14378234, -0.86041786]])"
       ]
      }
     ], 
     "prompt_number": 19
    }, 
    {
     "cell_type": "code", 
     "collapsed": true, 
     "input": [], 
     "language": "python", 
     "outputs": []
    }
   ]
  }
 ]
}