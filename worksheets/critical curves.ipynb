{
 "metadata": {
  "name": "TEST"
 }, 
 "nbformat": 2, 
 "worksheets": [
  {
   "cells": [
    {
     "cell_type": "code", 
     "collapsed": true, 
     "input": [
      "import sys", 
      "sys.path.append('../src')"
     ], 
     "language": "python", 
     "outputs": [], 
     "prompt_number": 1
    }, 
    {
     "cell_type": "code", 
     "collapsed": false, 
     "input": [
      "from matching import MatchingProblem", 
      "from curves import FigureEight, LogSpiral", 
      "from tools import separate_energies"
     ], 
     "language": "python", 
     "outputs": [], 
     "prompt_number": 10
    }, 
    {
     "cell_type": "code", 
     "collapsed": true, 
     "input": [
      "c0 = FigureEight(N=100)", 
      "c1 = LogSpiral(N=100)"
     ], 
     "language": "python", 
     "outputs": [], 
     "prompt_number": 4
    }, 
    {
     "cell_type": "code", 
     "collapsed": true, 
     "input": [
      "c0.translate(-c0[0,:])", 
      "c1.translate(-c1[0,:])"
     ], 
     "language": "python", 
     "outputs": [], 
     "prompt_number": 5
    }, 
    {
     "cell_type": "code", 
     "collapsed": true, 
     "input": [
      "mp = MatchingProblem(c0, c1, 2)"
     ], 
     "language": "python", 
     "outputs": [], 
     "prompt_number": 7
    }, 
    {
     "cell_type": "code", 
     "collapsed": false, 
     "input": [
      "energies = mp.sweep_theta_range(20)"
     ], 
     "language": "python", 
     "outputs": [
      {
       "output_type": "stream", 
       "stream": "stdout", 
       "text": [
        "0: theta_guess = 0.000000,  "
       ]
      }, 
      {
       "output_type": "stream", 
       "stream": "stdout", 
       "text": [
        "E = 6.810759e+01, res = -2.451020e-13, n_iter = 10", 
        "1: theta_guess = 0.314159,  "
       ]
      }, 
      {
       "output_type": "stream", 
       "stream": "stdout", 
       "text": [
        "E = 3.298298e+01, res = -8.227191e-10, n_iter = 5", 
        "2: theta_guess = 0.628319,  "
       ]
      }, 
      {
       "output_type": "stream", 
       "stream": "stdout", 
       "text": [
        "E = 3.298298e+01, res = -6.208417e-12, n_iter = 4", 
        "3: theta_guess = 0.942478,  "
       ]
      }, 
      {
       "output_type": "stream", 
       "stream": "stdout", 
       "text": [
        "E = 3.298298e+01, res = -3.493866e-11, n_iter = 6", 
        "4: theta_guess = 1.256637,  "
       ]
      }, 
      {
       "output_type": "stream", 
       "stream": "stdout", 
       "text": [
        "E = 3.298298e+01, res = -2.573590e-11, n_iter = 8", 
        "5: theta_guess = 1.570796,  "
       ]
      }, 
      {
       "output_type": "stream", 
       "stream": "stdout", 
       "text": [
        "E = 6.810759e+01, res = -2.007097e-13, n_iter = 6", 
        "6: theta_guess = 1.884956,  "
       ]
      }, 
      {
       "output_type": "stream", 
       "stream": "stdout", 
       "text": [
        "E = 6.810759e+01, res = -2.830029e-13, n_iter = 6", 
        "7: theta_guess = 2.199115,  "
       ]
      }, 
      {
       "output_type": "stream", 
       "stream": "stdout", 
       "text": [
        "E = 6.810759e+01, res = -3.580074e-13, n_iter = 6", 
        "8: theta_guess = 2.513274,  "
       ]
      }, 
      {
       "output_type": "stream", 
       "stream": "stdout", 
       "text": [
        "E = 6.810759e+01, res = -1.899739e-13, n_iter = 6", 
        "9: theta_guess = 2.827433,  "
       ]
      }, 
      {
       "output_type": "stream", 
       "stream": "stdout", 
       "text": [
        "E = 6.810759e+01, res = -4.184329e-10, n_iter = 5", 
        "10: theta_guess = 3.141593,  "
       ]
      }, 
      {
       "output_type": "stream", 
       "stream": "stdout", 
       "text": [
        "E = 6.810759e+01, res = -6.848376e-11, n_iter = 5", 
        "11: theta_guess = 3.455752,  "
       ]
      }, 
      {
       "output_type": "stream", 
       "stream": "stdout", 
       "text": [
        "E = 6.810759e+01, res = -2.246814e-12, n_iter = 5", 
        "12: theta_guess = 3.769911,  "
       ]
      }, 
      {
       "output_type": "stream", 
       "stream": "stdout", 
       "text": [
        "E = 6.810759e+01, res = -4.355681e-11, n_iter = 4", 
        "13: theta_guess = 4.084070,  "
       ]
      }, 
      {
       "output_type": "stream", 
       "stream": "stdout", 
       "text": [
        "E = 6.810759e+01, res = -1.436539e-10, n_iter = 4", 
        "14: theta_guess = 4.398230,  "
       ]
      }, 
      {
       "output_type": "stream", 
       "stream": "stdout", 
       "text": [
        "E = 6.810759e+01, res = -3.311426e-13, n_iter = 5", 
        "15: theta_guess = 4.712389,  "
       ]
      }, 
      {
       "output_type": "stream", 
       "stream": "stdout", 
       "text": [
        "E = 6.810759e+01, res = -5.497409e-11, n_iter = 4", 
        "16: theta_guess = 5.026548,  "
       ]
      }, 
      {
       "output_type": "stream", 
       "stream": "stdout", 
       "text": [
        "E = 6.810759e+01, res = -1.681022e-10, n_iter = 5", 
        "17: theta_guess = 5.340708,  "
       ]
      }, 
      {
       "output_type": "stream", 
       "stream": "stdout", 
       "text": [
        "E = 6.810759e+01, res = -2.095958e-10, n_iter = 6", 
        "18: theta_guess = 5.654867,  "
       ]
      }, 
      {
       "output_type": "stream", 
       "stream": "stdout", 
       "text": [
        "E = 6.810759e+01, res = -1.414519e-10, n_iter = 6", 
        "19: theta_guess = 5.969026,  "
       ]
      }, 
      {
       "output_type": "stream", 
       "stream": "stdout", 
       "text": [
        "E = 6.810759e+01, res = -3.547115e-13, n_iter = 7"
       ]
      }
     ], 
     "prompt_number": 8
    }, 
    {
     "cell_type": "code", 
     "collapsed": false, 
     "input": [
      "E_conv, E_div = separate_energies(energies)"
     ], 
     "language": "python", 
     "outputs": [
      {
       "ename": "NameError", 
       "evalue": "global name 'np' is not defined", 
       "output_type": "pyerr", 
       "traceback": [
        "\u001b[0;31m---------------------------------------------------------------------------\u001b[0m\n\u001b[0;31mNameError\u001b[0m                                 Traceback (most recent call last)", 
        "\u001b[0;32m/Users/Joris/Desktop/curve_matching/worksheets/<ipython-input-11-f89006e8b8c5>\u001b[0m in \u001b[0;36m<module>\u001b[0;34m()\u001b[0m\n\u001b[0;32m----> 1\u001b[0;31m \u001b[0mE_conv\u001b[0m\u001b[0;34m,\u001b[0m \u001b[0mE_div\u001b[0m \u001b[0;34m=\u001b[0m \u001b[0mseparate_energies\u001b[0m\u001b[0;34m(\u001b[0m\u001b[0menergies\u001b[0m\u001b[0;34m)\u001b[0m\u001b[0;34m\u001b[0m\u001b[0m\n\u001b[0m", 
        "\u001b[0;32m/Users/Joris/Desktop/curve_matching/src/tools.py\u001b[0m in \u001b[0;36mseparate_energies\u001b[0;34m(energies, tol)\u001b[0m\n\u001b[1;32m     20\u001b[0m             \u001b[0mE_convergent\u001b[0m\u001b[0;34m.\u001b[0m\u001b[0mappend\u001b[0m\u001b[0;34m(\u001b[0m\u001b[0menergy\u001b[0m\u001b[0;34m)\u001b[0m\u001b[0;34m\u001b[0m\u001b[0m\n\u001b[1;32m     21\u001b[0m \u001b[0;34m\u001b[0m\u001b[0m\n\u001b[0;32m---> 22\u001b[0;31m     \u001b[0mE_convergent\u001b[0m \u001b[0;34m=\u001b[0m \u001b[0mnp\u001b[0m\u001b[0;34m.\u001b[0m\u001b[0marray\u001b[0m\u001b[0;34m(\u001b[0m\u001b[0mE_convergent\u001b[0m\u001b[0;34m)\u001b[0m\u001b[0;34m\u001b[0m\u001b[0m\n\u001b[0m\u001b[1;32m     23\u001b[0m     \u001b[0mE_divergent\u001b[0m  \u001b[0;34m=\u001b[0m \u001b[0mnp\u001b[0m\u001b[0;34m.\u001b[0m\u001b[0marray\u001b[0m\u001b[0;34m(\u001b[0m\u001b[0mE_divergent\u001b[0m\u001b[0;34m)\u001b[0m\u001b[0;34m\u001b[0m\u001b[0m\n\u001b[1;32m     24\u001b[0m \u001b[0;34m\u001b[0m\u001b[0m\n", 
        "\u001b[0;31mNameError\u001b[0m: global name 'np' is not defined"
       ]
      }
     ], 
     "prompt_number": 11
    }, 
    {
     "cell_type": "code", 
     "collapsed": true, 
     "input": [], 
     "language": "python", 
     "outputs": []
    }
   ]
  }
 ]
}