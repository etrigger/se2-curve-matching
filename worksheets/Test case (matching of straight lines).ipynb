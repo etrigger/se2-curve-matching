{
 "metadata": {
  "name": "Test case (matching of straight lines)"
 },
 "nbformat": 3,
 "nbformat_minor": 0,
 "worksheets": [
  {
   "cells": [
    {
     "cell_type": "code",
     "collapsed": false,
     "input": [
      "from matplotlib.ticker import MaxNLocator"
     ],
     "language": "python",
     "metadata": {},
     "outputs": []
    },
    {
     "cell_type": "code",
     "collapsed": false,
     "input": [
      "from matplotlib import rc\n",
      "rc('font', size=11)\n",
      "rc('font',**{'family':'serif','serif':['Computer Modern']})\n",
      "rc('text', usetex=True)\n",
      "rc('figure', figsize=(3, 2))\n",
      "rc('axes', linewidth=.5)\n",
      "rc('lines', linewidth=.75)"
     ],
     "language": "python",
     "metadata": {},
     "outputs": []
    },
    {
     "cell_type": "code",
     "collapsed": false,
     "input": [],
     "language": "python",
     "metadata": {},
     "outputs": []
    },
    {
     "cell_type": "code",
     "collapsed": false,
     "input": [
      "import numpy as np"
     ],
     "language": "python",
     "metadata": {},
     "outputs": []
    },
    {
     "cell_type": "code",
     "collapsed": false,
     "input": [
      "from discrepancy.matching import MatchingProblem\n",
      "from discrepancy.curves import DiscreteCurve, sample_continuous_curve\n",
      "from discrepancy.tools import separate_energies\n",
      "from discrepancy.ode_system import right_boundary_condition\n",
      "from discrepancy.interpolation import LiegroupInterpolationMethod\n",
      "from discrepancy.curves import Circle, FigureEight, LogSpiral"
     ],
     "language": "python",
     "metadata": {},
     "outputs": []
    },
    {
     "cell_type": "code",
     "collapsed": false,
     "input": [
      "N = 10 # Number of points\n",
      "m = 2 # Angular velocity weight\n",
      "h = 1./(N-1) # Parameter increment"
     ],
     "language": "python",
     "metadata": {},
     "outputs": []
    },
    {
     "cell_type": "heading",
     "level": 2,
     "metadata": {},
     "source": [
      "Discrepancy between straight lines"
     ]
    },
    {
     "cell_type": "code",
     "collapsed": false,
     "input": [
      "c0 = DiscreteCurve(N=N)\n",
      "c1 = DiscreteCurve(N=N)\n",
      "for k in xrange(0, N):\n",
      "    c0[k] = (k*h, 0)\n",
      "    c1[k] = (0, k*h)"
     ],
     "language": "python",
     "metadata": {},
     "outputs": []
    },
    {
     "cell_type": "code",
     "collapsed": false,
     "input": [
      "mp = MatchingProblem(c0, c1, m)"
     ],
     "language": "python",
     "metadata": {},
     "outputs": []
    },
    {
     "cell_type": "code",
     "collapsed": false,
     "input": [
      "plot(c0.points[:, 0], c0.points[:, 1])\n",
      "plot(c1.points[:, 0], c1.points[:, 1])\n",
      "xlim(-1, 1)\n",
      "ylim(-1, 1)"
     ],
     "language": "python",
     "metadata": {},
     "outputs": []
    },
    {
     "cell_type": "code",
     "collapsed": false,
     "input": [
      "output = mp.sweep_theta_range(50)"
     ],
     "language": "python",
     "metadata": {},
     "outputs": []
    },
    {
     "cell_type": "code",
     "collapsed": false,
     "input": [
      "# Plot energy for range of thetas\n",
      "energies = []\n",
      "thetas = []\n",
      "for theta in np.linspace(0, 2*pi, 50):\n",
      "    print '.',\n",
      "    g = mp.integrate(theta)\n",
      "    energies.append(g.energy())\n",
      "    thetas.append(theta)"
     ],
     "language": "python",
     "metadata": {},
     "outputs": []
    },
    {
     "cell_type": "code",
     "collapsed": false,
     "input": [],
     "language": "python",
     "metadata": {},
     "outputs": []
    },
    {
     "cell_type": "code",
     "collapsed": false,
     "input": [
      "fig = figure()\n",
      "ax = fig.add_subplot(111)\n",
      "ax.set_ylim(-0.2, 2.2)\n",
      "ax.set_xlim(0, 2*np.pi)\n",
      "ax.set_xticks(np.linspace(0, 2*pi, 5))\n",
      "ax.set_xticklabels([r'$0$', r'$\\pi/2$', r'$\\pi$', r'$3\\pi/2$', r'$2\\pi$'], va='baseline')\n",
      "ax.tick_params(axis='x', pad=18)\n",
      "ax.set_xlabel(r'$\\theta_0$')\n",
      "ax.set_ylabel(r'$hE(\\theta_0)$')\n",
      "ax.xaxis.grid(color='gray', linestyle='dashed', zorder=1)\n",
      "ax.yaxis.grid(color='gray', linestyle='dashed', zorder=1)\n",
      "ax.plot(thetas, energies, zorder=10)\n",
      "fig.tight_layout()\n",
      "plt.savefig('Figures/lines-energy.pdf')\n",
      "plt.show()"
     ],
     "language": "python",
     "metadata": {},
     "outputs": []
    },
    {
     "cell_type": "heading",
     "level": 2,
     "metadata": {},
     "source": [
      "Discrepancy between rigidly rotated figures"
     ]
    },
    {
     "cell_type": "code",
     "collapsed": false,
     "input": [
      "N = 100 # Number of points\n",
      "m = 2 # Angular velocity weight\n",
      "h = 1./(N-1) # Parameter increment"
     ],
     "language": "python",
     "metadata": {},
     "outputs": []
    },
    {
     "cell_type": "code",
     "collapsed": false,
     "input": [
      "c0 = FigureEight(N=N)\n",
      "c1 = FigureEight(N=N)\n",
      "\n",
      "c1.rotate(pi/3)\n",
      "\n",
      "c0.translate(-c0.points[0])\n",
      "c1.translate(-c1.points[1])"
     ],
     "language": "python",
     "metadata": {},
     "outputs": []
    },
    {
     "cell_type": "code",
     "collapsed": false,
     "input": [
      "mp = MatchingProblem(c0, c1, m)"
     ],
     "language": "python",
     "metadata": {},
     "outputs": []
    },
    {
     "cell_type": "code",
     "collapsed": false,
     "input": [
      "output = mp.sweep_theta_range(30)"
     ],
     "language": "python",
     "metadata": {},
     "outputs": []
    },
    {
     "cell_type": "code",
     "collapsed": false,
     "input": [
      "# Plot energy for range of thetas\n",
      "energies = []\n",
      "thetas = []\n",
      "for theta in np.linspace(0, 2*pi, 61):\n",
      "    print '.',\n",
      "    g = mp.integrate(theta)\n",
      "    energies.append(g.energy())\n",
      "    thetas.append(theta)"
     ],
     "language": "python",
     "metadata": {},
     "outputs": []
    },
    {
     "cell_type": "code",
     "collapsed": false,
     "input": [
      "fig = figure()\n",
      "ax = fig.add_subplot(111)\n",
      "ax.yaxis.set_major_locator(MaxNLocator(4))\n",
      "ax.set_xlim(0, 2*np.pi)\n",
      "ax.set_xticks([0, pi/3, pi, 2*pi])\n",
      "ax.set_xticklabels([r'$0$', r'$\\pi/3$', r'$\\pi$', r'$2\\pi$'], va='baseline')\n",
      "ax.tick_params(axis='x', pad=10)\n",
      "ax.set_xlabel(r'$\\theta_0$')\n",
      "ax.set_ylabel(r'$hE(\\theta_0)$')\n",
      "ax.xaxis.grid(color='gray', linestyle='dashed', zorder=1)\n",
      "ax.yaxis.grid(color='gray', linestyle='dashed', zorder=1)\n",
      "ax.plot(thetas, energies, zorder=10)\n",
      "fig.tight_layout()\n",
      "plt.savefig('Figures/eight-energy.pdf')\n",
      "plt.show()"
     ],
     "language": "python",
     "metadata": {},
     "outputs": []
    },
    {
     "cell_type": "code",
     "collapsed": false,
     "input": [
      "# For the next figure, we want the drawing area to appear at exactly the \n",
      "# same location as for the current figure. This makes for a visually more\n",
      "# pleasing layout in the paper, where these two figures are set side-by-side.\n",
      "bbox = ax.get_position(); bbox"
     ],
     "language": "python",
     "metadata": {},
     "outputs": []
    },
    {
     "cell_type": "code",
     "collapsed": false,
     "input": [
      "fig = figure()\n",
      "ax = fig.add_axes(bbox)\n",
      "ax.plot(c0.points[:, 0], c0.points[:, 1], 'b-', linewidth=1)\n",
      "ax.plot(c1.points[:, 0], c1.points[:, 1], 'r--', linewidth=1)\n",
      "ax.xaxis.set_major_locator(MaxNLocator(2))\n",
      "ax.yaxis.set_major_locator(MaxNLocator(2))\n",
      "#ax.tick_params(axis='x', pad=10)\n",
      "#fig.tight_layout()\n",
      "plt.savefig('Figures/eight-layout.pdf')\n",
      "plt.show()"
     ],
     "language": "python",
     "metadata": {},
     "outputs": []
    },
    {
     "cell_type": "code",
     "collapsed": false,
     "input": [],
     "language": "python",
     "metadata": {},
     "outputs": []
    }
   ],
   "metadata": {}
  }
 ]
}