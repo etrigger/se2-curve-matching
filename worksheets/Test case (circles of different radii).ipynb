{
 "metadata": {
  "name": "Test case (circles of different radii)"
 },
 "nbformat": 3,
 "nbformat_minor": 0,
 "worksheets": [
  {
   "cells": [
    {
     "cell_type": "code",
     "collapsed": false,
     "input": [
      "from matplotlib.ticker import MaxNLocator"
     ],
     "language": "python",
     "metadata": {},
     "outputs": []
    },
    {
     "cell_type": "code",
     "collapsed": false,
     "input": [
      "from matplotlib import rc\n",
      "rc('font', size=11)\n",
      "rc('font',**{'family':'serif','serif':['Computer Modern']})\n",
      "rc('text', usetex=True)\n",
      "rc('figure', figsize=(3, 2))\n",
      "rc('axes', linewidth=.5)\n",
      "rc('lines', linewidth=.75)"
     ],
     "language": "python",
     "metadata": {},
     "outputs": []
    },
    {
     "cell_type": "code",
     "collapsed": false,
     "input": [],
     "language": "python",
     "metadata": {},
     "outputs": []
    },
    {
     "cell_type": "code",
     "collapsed": false,
     "input": [
      "import numpy as np"
     ],
     "language": "python",
     "metadata": {},
     "outputs": []
    },
    {
     "cell_type": "code",
     "collapsed": false,
     "input": [
      "from discrepancy.matching import MatchingProblem\n",
      "from discrepancy.curves import DiscreteCurve, sample_continuous_curve\n",
      "from discrepancy.tools import separate_energies\n",
      "from discrepancy.ode_system import right_boundary_condition\n",
      "from discrepancy.interpolation import LiegroupInterpolationMethod\n",
      "from discrepancy.curves import Circle, FigureEight, LogSpiral"
     ],
     "language": "python",
     "metadata": {},
     "outputs": []
    },
    {
     "cell_type": "code",
     "collapsed": false,
     "input": [
      "N = 100 # Number of points\n",
      "m = 2 # Angular velocity weight\n",
      "h = 1./(N-1) # Parameter increment"
     ],
     "language": "python",
     "metadata": {},
     "outputs": []
    },
    {
     "cell_type": "heading",
     "level": 2,
     "metadata": {},
     "source": [
      "Discrepancy between circles"
     ]
    },
    {
     "cell_type": "code",
     "collapsed": false,
     "input": [
      "c0 = Circle(radius=1, N=N)\n",
      "c1 = Circle(radius=2, N=N)"
     ],
     "language": "python",
     "metadata": {},
     "outputs": []
    },
    {
     "cell_type": "code",
     "collapsed": false,
     "input": [
      "# Translate back to the origin and plot\n",
      "\n",
      "c0.translate(-c0[0])\n",
      "c1.translate(-c1[0])\n",
      "\n",
      "plot(c0.points[:, 0], c0.points[:, 1])\n",
      "plot(c1.points[:, 0], c1.points[:, 1])"
     ],
     "language": "python",
     "metadata": {},
     "outputs": []
    },
    {
     "cell_type": "code",
     "collapsed": false,
     "input": [
      "mp = MatchingProblem(c0, c1, m)"
     ],
     "language": "python",
     "metadata": {},
     "outputs": []
    },
    {
     "cell_type": "code",
     "collapsed": false,
     "input": [],
     "language": "python",
     "metadata": {},
     "outputs": []
    },
    {
     "cell_type": "code",
     "collapsed": false,
     "input": [
      "output = mp.sweep_theta_range(50)"
     ],
     "language": "python",
     "metadata": {},
     "outputs": []
    },
    {
     "cell_type": "code",
     "collapsed": false,
     "input": [
      "# Plot energy for range of thetas\n",
      "energies = []\n",
      "thetas = []\n",
      "for theta in np.linspace(0, 2*pi, 50):\n",
      "    print '.',\n",
      "    g = mp.integrate(theta)\n",
      "    energies.append(g.energy())\n",
      "    thetas.append(theta)"
     ],
     "language": "python",
     "metadata": {},
     "outputs": []
    },
    {
     "cell_type": "code",
     "collapsed": false,
     "input": [],
     "language": "python",
     "metadata": {},
     "outputs": []
    },
    {
     "cell_type": "code",
     "collapsed": false,
     "input": [
      "fig = figure()\n",
      "ax = fig.add_subplot(111)\n",
      "#ax.set_ylim(-0.2, 2.2)\n",
      "#ax.set_xlim(0, 2*np.pi)\n",
      "#ax.set_xticks(np.linspace(0, 2*pi, 5))\n",
      "#ax.set_xticklabels([r'$0$', r'$\\pi/2$', r'$\\pi$', r'$3\\pi/2$', r'$2\\pi$'], va='baseline')\n",
      "#ax.tick_params(axis='x', pad=18)\n",
      "ax.set_xlabel(r'$\\theta_0$')\n",
      "ax.set_ylabel(r'$hE(\\theta_0)$')\n",
      "ax.xaxis.grid(color='gray', linestyle='dashed', zorder=1)\n",
      "ax.yaxis.grid(color='gray', linestyle='dashed', zorder=1)\n",
      "ax.plot(thetas, energies, zorder=10)\n",
      "fig.tight_layout()\n",
      "plt.savefig('Figures/circles-energy.pdf')\n",
      "plt.show()"
     ],
     "language": "python",
     "metadata": {},
     "outputs": []
    },
    {
     "cell_type": "code",
     "collapsed": false,
     "input": [
      "# Value of the minimum\n",
      "_, theta_min, E_min, _, _ = min(output, key=lambda row: row[2])\n",
      "print theta_min, E_min"
     ],
     "language": "python",
     "metadata": {},
     "outputs": []
    },
    {
     "cell_type": "heading",
     "level": 2,
     "metadata": {},
     "source": [
      "Visualization"
     ]
    },
    {
     "cell_type": "code",
     "collapsed": false,
     "input": [
      "def make_interpolation_visualization(filename, interpolator, numframes=10, mark_points=True):\n",
      "\n",
      "    plt.clf()\n",
      "    fig = figure(figsize=(15, 1.5))\n",
      "\n",
      "    N = c0.N\n",
      "\n",
      "    for n in xrange(0, numframes):\n",
      "        ax = fig.add_subplot(1, 10, n+1, aspect='equal')#, autoscale_on=False,xlim=(-1.5, 1.5),ylim=(-1.5, 1.5))\n",
      "        print \"%d, \" % n,\n",
      "    \n",
      "        epsilon = float(n)/(numframes-1)\n",
      "    \n",
      "        c0_tr = interpolator.transform(epsilon)\n",
      "        #c0_tr.translate(-c0_tr.mean()) \n",
      "    \n",
      "        if n == 0 or n == numframes-1:\n",
      "            color='black'\n",
      "            zorder=100\n",
      "        else: \n",
      "            color='gray'\n",
      "            zorder=10\n",
      "  \n",
      "        ax.plot(c0_tr.points[:, 0], c0_tr.points[:, 1], color=color, linewidth=3, solid_capstyle='round', zorder=zorder)\n",
      "    \n",
      "        if mark_points:\n",
      "            ax.plot(c0_tr.points[0, 0], c0_tr.points[0, 1], 'o', mec='black', mfc='red', markersize=8, zorder=zorder)\n",
      "            ax.plot(c0_tr.points[N/3, 0], c0_tr.points[N/3, 1], '*', mec='black', mfc='red', markersize=12, zorder=zorder)\n",
      "            ax.plot(c0_tr.points[2*N/3, 0], c0_tr.points[2*N/3, 1], 'v', mec='black', mfc='red', markersize=8, zorder=zorder)\n",
      "    \n",
      "        ax.set_xlim((-4.5, 0.5))\n",
      "        ax.set_ylim((-2.5, 2.5)) \n",
      "        ax.set_frame_on(False)\n",
      "        ax.axes.get_yaxis().set_visible(False)\n",
      "        ax.axes.get_xaxis().set_visible(False)\n",
      "\n",
      "    fig.tight_layout()\n",
      "    fig.savefig(filename, bb_inches='tight')\n",
      "    fig.show()"
     ],
     "language": "python",
     "metadata": {},
     "outputs": []
    },
    {
     "cell_type": "code",
     "collapsed": false,
     "input": [
      "g = mp.match(theta_min)[0]\n",
      "print g.theta[0], g.energy()\n",
      "interpolator = LiegroupInterpolationMethod(c0, c1, g)"
     ],
     "language": "python",
     "metadata": {},
     "outputs": []
    },
    {
     "cell_type": "code",
     "collapsed": false,
     "input": [
      "make_interpolation_visualization('Figures/circles.pdf', interpolator, numframes=10, mark_points=True)"
     ],
     "language": "python",
     "metadata": {},
     "outputs": []
    },
    {
     "cell_type": "code",
     "collapsed": false,
     "input": [],
     "language": "python",
     "metadata": {},
     "outputs": []
    }
   ],
   "metadata": {}
  }
 ]
}